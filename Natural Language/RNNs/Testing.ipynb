{
 "cells": [
  {
   "cell_type": "code",
   "execution_count": 19,
   "metadata": {},
   "outputs": [],
   "source": [
    "from keras.models import model_from_json"
   ]
  },
  {
   "cell_type": "code",
   "execution_count": 20,
   "metadata": {},
   "outputs": [],
   "source": [
    "with open('shakespeare_lstm_model.json', 'r') as f:\n",
    "    model_json = f.read()\n",
    "\n",
    "model = model_from_json(model_json)\n",
    "model.load_weights('shakes_lstm_weights_5.h5')"
   ]
  },
  {
   "cell_type": "code",
   "execution_count": 21,
   "metadata": {},
   "outputs": [],
   "source": [
    "import random\n",
    "import sys\n",
    "import numpy as np\n",
    "from nltk.corpus import gutenberg\n",
    "\n",
    "def sample(preds, temperature=1.0):\n",
    "    # helper function to sample an index from a probability array\n",
    "    preds = np.asarray(preds).astype('float64')\n",
    "    preds = np.log(preds) / temperature\n",
    "    exp_preds = np.exp(preds)\n",
    "    preds = exp_preds / np.sum(exp_preds)\n",
    "    probas = np.random.multinomial(1, preds, 1)\n",
    "    return np.argmax(probas)"
   ]
  },
  {
   "cell_type": "code",
   "execution_count": 22,
   "metadata": {},
   "outputs": [],
   "source": [
    "text = ''\n",
    "maxlen = 40\n",
    "for txt in gutenberg.fileids():\n",
    "    if 'shakespeare' in txt:\n",
    "        text += gutenberg.raw(txt).lower()\n",
    "\n",
    "chars = sorted(list(set(text)))\n",
    "char_indices = dict((c, i) for i, c in enumerate(chars))\n",
    "indices_char = dict((i, c) for i, c in enumerate(chars))\n",
    "\n",
    "start_index = random.randint(0, len(text) - maxlen - 1)"
   ]
  },
  {
   "cell_type": "code",
   "execution_count": 23,
   "metadata": {},
   "outputs": [
    {
     "name": "stdout",
     "output_type": "stream",
     "text": [
      "\n",
      "----- diversity: 0.2\n",
      "----- Generating with seed: \"iue you feele\n",
      "the dint of pitty: these a\"\n",
      "iue you feele\n",
      "the dint of pitty: these are the compures the streete\n",
      "\n",
      "   rosin. the world be and the presence and a man,\n",
      "the stranger to the words and stranger haue to the stage,\n",
      "the world be my stranger brutus, and the worthy wing the words\n",
      "with the stranger to the "
     ]
    },
    {
     "name": "stderr",
     "output_type": "stream",
     "text": [
      "D:\\Software\\Anaconda\\envs\\rasa\\lib\\site-packages\\ipykernel_launcher.py:9: RuntimeWarning: divide by zero encountered in log\n",
      "  if __name__ == '__main__':\n"
     ]
    },
    {
     "name": "stdout",
     "output_type": "stream",
     "text": [
      "commance:\n",
      "i will not the point to the pearer the holby;\n",
      "the stranger the most blooding to the streat\n",
      "what i haue some stranger that we doe not\n",
      "\n",
      "   ant. the most propond the w\n",
      "\n",
      "----- diversity: 0.5\n",
      "----- Generating with seed: \"iue you feele\n",
      "the dint of pitty: these a\"\n",
      "iue you feele\n",
      "the dint of pitty: these are a ward in the hought to anstherall no more\n",
      "\n",
      "   ant. stand and the mort well, and villaine to doe construe\n",
      "him the word from the thing in men,\n",
      "and still we man hell, were durnes strong\n",
      "be not the winde of the conceed to the earth\n",
      "we is the tongue to the compures againe:\n",
      "was he too. now not this heard it is this\n",
      "in his common your pearer strong in mest bad,\n",
      "and an euen with them caesar seeming,\n",
      "w\n",
      "\n",
      "----- diversity: 1.0\n",
      "----- Generating with seed: \"iue you feele\n",
      "the dint of pitty: these a\"\n",
      "iue you feele\n",
      "the dint of pitty: these are the king, and wee'l plunrest night werchful ten.\n",
      "rearection our souere quiede more stooce:\n",
      "thingge house not was their po: the thing-me about\n",
      "by the blood light litters, this farres,\n",
      "laertes?\n",
      "i haue liue destrue bet wayphion to day?\n",
      "  gent. no my lord: there? han, but hold spect in here; o callust,\n",
      "were c\n",
      "me tongue\n",
      "\n",
      "   laer. caesar lacbest--bqun'd thee beheeued,\n",
      "spertrue-suie mark antony\n",
      "\n",
      "   ks\n"
     ]
    }
   ],
   "source": [
    "for diversity in [0.2, 0.5, 1.0]:\n",
    "    print()\n",
    "    print('----- diversity:', diversity)\n",
    "\n",
    "    generated = ''\n",
    "    sentence = text[start_index: start_index + maxlen]\n",
    "    generated += sentence\n",
    "    print('----- Generating with seed: \"' + sentence + '\"')\n",
    "    sys.stdout.write(generated)\n",
    "\n",
    "    for i in range(400):\n",
    "        x = np.zeros((1, maxlen, len(chars)))\n",
    "        for t, char in enumerate(sentence):\n",
    "            x[0, t, char_indices[char]] = 1.\n",
    "\n",
    "        preds = model.predict(x, verbose=0)[0]\n",
    "        next_index = sample(preds, diversity)\n",
    "        next_char = indices_char[next_index]\n",
    "\n",
    "        generated += next_char\n",
    "        sentence = sentence[1:] + next_char\n",
    "\n",
    "        sys.stdout.write(next_char)\n",
    "        sys.stdout.flush()\n",
    "    print()"
   ]
  },
  {
   "cell_type": "code",
   "execution_count": null,
   "metadata": {},
   "outputs": [],
   "source": []
  }
 ],
 "metadata": {
  "kernelspec": {
   "display_name": "Python 3",
   "language": "python",
   "name": "python3"
  },
  "language_info": {
   "codemirror_mode": {
    "name": "ipython",
    "version": 3
   },
   "file_extension": ".py",
   "mimetype": "text/x-python",
   "name": "python",
   "nbconvert_exporter": "python",
   "pygments_lexer": "ipython3",
   "version": "3.6.10"
  }
 },
 "nbformat": 4,
 "nbformat_minor": 4
}
