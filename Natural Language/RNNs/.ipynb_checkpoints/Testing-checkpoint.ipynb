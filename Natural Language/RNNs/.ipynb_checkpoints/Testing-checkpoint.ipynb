{
 "cells": [
  {
   "cell_type": "code",
   "execution_count": 14,
   "metadata": {},
   "outputs": [],
   "source": [
    "from keras.models import model_from_json"
   ]
  },
  {
   "cell_type": "code",
   "execution_count": 15,
   "metadata": {},
   "outputs": [],
   "source": [
    "with open('shakespeare_lstm_model.json', 'r') as f:\n",
    "    model_json = f.read()\n",
    "\n",
    "model = model_from_json(model_json)\n",
    "model.load_weights('shakes_lstm_weights_5.h5')"
   ]
  },
  {
   "cell_type": "code",
   "execution_count": 16,
   "metadata": {},
   "outputs": [],
   "source": [
    "import random\n",
    "import sys\n",
    "import numpy as np\n",
    "from nltk.corpus import gutenberg\n",
    "\n",
    "def sample(preds, temperature=1.0):\n",
    "    # helper function to sample an index from a probability array\n",
    "    preds = np.asarray(preds).astype('float64')\n",
    "    preds = np.log(preds) / temperature\n",
    "    exp_preds = np.exp(preds)\n",
    "    preds = exp_preds / np.sum(exp_preds)\n",
    "    probas = np.random.multinomial(1, preds, 1)\n",
    "    return np.argmax(probas)"
   ]
  },
  {
   "cell_type": "code",
   "execution_count": 17,
   "metadata": {},
   "outputs": [],
   "source": [
    "text = ''\n",
    "maxlen = 40\n",
    "for txt in gutenberg.fileids():\n",
    "    if 'shakespeare' in txt:\n",
    "        text += gutenberg.raw(txt).lower()\n",
    "\n",
    "chars = sorted(list(set(text)))\n",
    "char_indices = dict((c, i) for i, c in enumerate(chars))\n",
    "indices_char = dict((i, c) for i, c in enumerate(chars))\n",
    "\n",
    "start_index = random.randint(0, len(text) - maxlen - 1)"
   ]
  },
  {
   "cell_type": "code",
   "execution_count": 18,
   "metadata": {},
   "outputs": [
    {
     "name": "stdout",
     "output_type": "stream",
     "text": [
      "\n",
      "----- diversity: 0.2\n",
      "----- Generating with seed: \"y snake,\n",
      "in the cauldron boyle and bake:\"\n",
      "y snake,\n",
      "in the cauldron boyle and bake: the serulling to the street,\n",
      "that say the stranger hath the stranger.\n",
      "\n",
      "exeunt.\n",
      "\n",
      "  ham. and the world in his selfe shall be the soule\n",
      "that shall be so much to the way: and that i haue soules, and the street the streetes then the streetes,\n",
      "and the strange the vndection of the street,\n",
      "that hath the such a souldier to the street,\n",
      "then the stranger hath the stranger of him,\n",
      "and the soule ento the stra\n",
      "\n",
      "----- diversity: 0.5\n",
      "----- Generating with seed: \"y snake,\n",
      "in the cauldron boyle and bake:\"\n",
      "y snake,\n",
      "in the cauldron boyle and bake: looke he would heare,\n",
      "and with not they haue to the maiest laert,\n",
      "marke our fathers, to the lastons, to his did father,\n",
      "since not to the capsible my selfe shall bee\n",
      "the cause of cast and to the cause of day in the soule,\n",
      "and with his since heart, which was my sould,\n",
      "but he hath the sarre my horted through himserues,\n",
      "and crowne represt? and come horatio.\n",
      "\n",
      "  ham. what now that i haue the selfe in t\n",
      "\n",
      "----- diversity: 1.0\n",
      "----- Generating with seed: \"y snake,\n",
      "in the cauldron boyle and bake:\"\n",
      "y snake,\n",
      "in the cauldron boyle and bake:\n",
      "we are my lord\n",
      "\n",
      "   casi. why should not meet takes and hearts,\n",
      "this dyes a nram a man let the grapne seat,\n",
      "for time shall te ryenesse.\n",
      "with this saccticume himselfe dedy and charge,\n",
      "which is iourst of caesar, his sonerand, what\n",
      "say then i \n",
      "   poet. willride soule in him, for stild-herrest: god deares,\n",
      "you will not stands my kind-houldes himselfe,\n",
      "but and toucht they that grace and caesar\n",
      "\n",
      "   ham.\n"
     ]
    }
   ],
   "source": [
    "for diversity in [0.2, 0.5, 1.0]:\n",
    "    print()\n",
    "    print('----- diversity:', diversity)\n",
    "\n",
    "    generated = ''\n",
    "    sentence = text[start_index: start_index + maxlen]\n",
    "    generated += sentence\n",
    "    print('----- Generating with seed: \"' + sentence + '\"')\n",
    "    sys.stdout.write(generated)\n",
    "\n",
    "    for i in range(400):\n",
    "        x = np.zeros((1, maxlen, len(chars)))\n",
    "        for t, char in enumerate(sentence):\n",
    "            x[0, t, char_indices[char]] = 1.\n",
    "\n",
    "        preds = model.predict(x, verbose=0)[0]\n",
    "        next_index = sample(preds, diversity)\n",
    "        next_char = indices_char[next_index]\n",
    "\n",
    "        generated += next_char\n",
    "        sentence = sentence[1:] + next_char\n",
    "\n",
    "        sys.stdout.write(next_char)\n",
    "        sys.stdout.flush()\n",
    "    print()"
   ]
  },
  {
   "cell_type": "code",
   "execution_count": null,
   "metadata": {},
   "outputs": [],
   "source": []
  }
 ],
 "metadata": {
  "kernelspec": {
   "display_name": "Python 3",
   "language": "python",
   "name": "python3"
  },
  "language_info": {
   "codemirror_mode": {
    "name": "ipython",
    "version": 3
   },
   "file_extension": ".py",
   "mimetype": "text/x-python",
   "name": "python",
   "nbconvert_exporter": "python",
   "pygments_lexer": "ipython3",
   "version": "3.6.10"
  }
 },
 "nbformat": 4,
 "nbformat_minor": 4
}
