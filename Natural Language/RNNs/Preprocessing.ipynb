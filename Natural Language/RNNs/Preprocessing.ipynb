{
 "cells": [
  {
   "cell_type": "code",
   "execution_count": 3,
   "metadata": {},
   "outputs": [
    {
     "data": {
      "text/plain": [
       "['austen-emma.txt',\n",
       " 'austen-persuasion.txt',\n",
       " 'austen-sense.txt',\n",
       " 'bible-kjv.txt',\n",
       " 'blake-poems.txt',\n",
       " 'bryant-stories.txt',\n",
       " 'burgess-busterbrown.txt',\n",
       " 'carroll-alice.txt',\n",
       " 'chesterton-ball.txt',\n",
       " 'chesterton-brown.txt',\n",
       " 'chesterton-thursday.txt',\n",
       " 'edgeworth-parents.txt',\n",
       " 'melville-moby_dick.txt',\n",
       " 'milton-paradise.txt',\n",
       " 'shakespeare-caesar.txt',\n",
       " 'shakespeare-hamlet.txt',\n",
       " 'shakespeare-macbeth.txt',\n",
       " 'whitman-leaves.txt']"
      ]
     },
     "execution_count": 3,
     "metadata": {},
     "output_type": "execute_result"
    }
   ],
   "source": [
    "import numpy as np\n",
    "from nltk.corpus import gutenberg\n",
    "gutenberg.fileids()"
   ]
  },
  {
   "cell_type": "code",
   "execution_count": 18,
   "metadata": {},
   "outputs": [
    {
     "name": "stdout",
     "output_type": "stream",
     "text": [
      "corpus length: 375542\n",
      "['\\n', ' ', '!', '&', \"'\", '(', ')', ',', '-', '.', '0', '1', '2', '3', '4', '5', '6', '9', ':', ';', '?', '[', ']', 'a', 'b', 'c', 'd', 'e', 'f', 'g', 'h', 'i', 'j', 'k', 'l', 'm', 'n', 'o', 'p', 'q', 'r', 's', 't', 'u', 'v', 'w', 'x', 'y', 'z', 'æ']\n",
      "total chars: 50\n"
     ]
    }
   ],
   "source": [
    "text = ''\n",
    "for txt in gutenberg.fileids():\n",
    "    if 'shakespeare' in txt:\n",
    "        text += gutenberg.raw(txt).lower()\n",
    "\n",
    "print('corpus length:', len(text))\n",
    "\n",
    "chars = sorted(list(set(text)))\n",
    "print(chars)\n",
    "print('total chars:', len(chars))\n",
    "char_indices = dict((c, i) for i, c in enumerate(chars))\n",
    "indices_char = dict((i, c) for i, c in enumerate(chars))"
   ]
  },
  {
   "cell_type": "code",
   "execution_count": 17,
   "metadata": {},
   "outputs": [
    {
     "name": "stdout",
     "output_type": "stream",
     "text": [
      "[the tragedie of julius caesar by william shakespeare 1599]\n",
      "\n",
      "\n",
      "actus primus. scoena prima.\n",
      "\n",
      "enter flauius, murellus, and certaine commoners ouer the stage.\n",
      "\n",
      "  flauius. hence: home you idle creatures, get you home:\n",
      "is this a holiday? what, know you not\n",
      "(being mechanicall) you ought not walke\n",
      "vpon a labouring day, without the signe\n",
      "of your profession? speake, what trade art thou?\n",
      "  car. why sir, a carpenter\n",
      "\n",
      "   mur. where is thy leather apron, and thy rule?\n",
      "what dost thou with thy best apparrell on?\n",
      "you sir, what trade are you?\n",
      "  cobl. truely sir, in respect of a fine workman, i am\n",
      "but as you would say, a cobler\n",
      "\n",
      "   mur. but what trade art thou? answer me directly\n",
      "\n",
      "   cob. a trade sir, that i hope i may vse, with a safe\n",
      "conscience, which is indeed sir, a mender of bad soules\n",
      "\n",
      "   fla. what trade thou knaue? thou naughty knaue,\n",
      "what trade?\n",
      "  cobl. nay i beseech you sir, be not out with me: yet\n",
      "if you be out sir, i can mend you\n",
      "\n",
      "   mur. what mean'st thou by that? mend mee, thou\n",
      "sawcy fellow?\n",
      "  cob. why sir, cobble you\n",
      "\n",
      "   fla. thou art a cobler, art thou?\n",
      "  cob. truly sir, all that i liue by, is with the aule: i\n",
      "meddle with no tradesmans matters, nor womens matters;\n",
      "but withal i am indeed sir, a surgeon to old shooes:\n",
      "when they are in great danger, i recouer them. as proper\n",
      "men as euer trod vpon neats leather, haue gone vpon\n",
      "my handy-worke\n",
      "\n",
      "   fla. but wherefore art not in thy shop to day?\n",
      "why do'st thou leade these men about the streets?\n",
      "  cob. truly sir, to weare out their shooes, to get my\n",
      "selfe into more worke. but indeede sir, we make holyday\n",
      "to see caesar, and to reioyce in his triumph\n",
      "\n",
      "   mur. wherefore reioyce?\n",
      "what conquest brings he home?\n",
      "what tributaries follow him to rome,\n",
      "to grace in captiue bonds his chariot wheeles?\n",
      "you blockes, you stones, you worse then senslesse things:\n",
      "o you hard hearts, you cruell men of rome,\n",
      "knew you not pompey many a time and oft?\n",
      "haue you climb'd vp to walles and battlements,\n",
      "to towres and windowes? yea, to chimney tops,\n",
      "your infan\n"
     ]
    }
   ],
   "source": [
    "print(text[:2000])"
   ]
  },
  {
   "cell_type": "code",
   "execution_count": 6,
   "metadata": {},
   "outputs": [
    {
     "name": "stdout",
     "output_type": "stream",
     "text": [
      "nb sequences: 125168\n"
     ]
    }
   ],
   "source": [
    "\"\"\"\n",
    "Assemble a training set\n",
    "\"\"\"\n",
    "\n",
    "\"\"\"\n",
    "Ignore sentence (and line) boundaries so the character-based model will learn\n",
    "when to halt a sentence with a period ('.') or linefeed character ('\\n').\n",
    "\"\"\"\n",
    "maxlen = 40\n",
    "step = 3\n",
    "sentences = []\n",
    "next_chars = []\n",
    "for i in range(0, len(text) - maxlen, step):\n",
    "    sentences.append(text[i: i + maxlen])\n",
    "    next_chars.append(text[i + maxlen])\n",
    "print('nb sequences:', len(sentences))"
   ]
  },
  {
   "cell_type": "code",
   "execution_count": 7,
   "metadata": {},
   "outputs": [],
   "source": [
    "X = np.zeros((len(sentences), maxlen, len(chars)), dtype=np.bool)\n",
    "y = np.zeros((len(sentences), len(chars)), dtype=np.bool)\n",
    "for i, sentence in enumerate(sentences):\n",
    "    for t, char in enumerate(sentence):\n",
    "        X[i, t, char_indices[char]] = 1\n",
    "    y[i, char_indices[next_chars[i]]] = 1"
   ]
  },
  {
   "cell_type": "code",
   "execution_count": 8,
   "metadata": {},
   "outputs": [],
   "source": [
    "# Build Model"
   ]
  },
  {
   "cell_type": "code",
   "execution_count": 9,
   "metadata": {},
   "outputs": [],
   "source": [
    "from keras.models import Sequential\n",
    "from keras.layers import Dense, Activation\n",
    "from keras.layers import LSTM\n",
    "from keras.optimizers import RMSprop"
   ]
  },
  {
   "cell_type": "code",
   "execution_count": 10,
   "metadata": {},
   "outputs": [],
   "source": [
    "model = Sequential()\n",
    "model.add(LSTM(128, input_shape=(maxlen, len(chars))))\n",
    "model.add(Dense(len(chars)))\n",
    "model.add(Activation('softmax'))"
   ]
  },
  {
   "cell_type": "code",
   "execution_count": 11,
   "metadata": {},
   "outputs": [
    {
     "name": "stdout",
     "output_type": "stream",
     "text": [
      "Model: \"sequential_2\"\n",
      "_________________________________________________________________\n",
      "Layer (type)                 Output Shape              Param #   \n",
      "=================================================================\n",
      "lstm_1 (LSTM)                (None, 128)               91648     \n",
      "_________________________________________________________________\n",
      "dense_1 (Dense)              (None, 50)                6450      \n",
      "_________________________________________________________________\n",
      "activation_1 (Activation)    (None, 50)                0         \n",
      "=================================================================\n",
      "Total params: 98,098\n",
      "Trainable params: 98,098\n",
      "Non-trainable params: 0\n",
      "_________________________________________________________________\n"
     ]
    }
   ],
   "source": [
    "optimizer = RMSprop(lr=0.01)\n",
    "model.compile(loss='categorical_crossentropy', optimizer=optimizer)\n",
    "\n",
    "model.summary()"
   ]
  },
  {
   "cell_type": "code",
   "execution_count": 12,
   "metadata": {},
   "outputs": [],
   "source": [
    "epochs=6\n",
    "batch_size=128"
   ]
  },
  {
   "cell_type": "code",
   "execution_count": 13,
   "metadata": {},
   "outputs": [
    {
     "name": "stdout",
     "output_type": "stream",
     "text": [
      "Epoch 1/6\n",
      "125168/125168 [==============================] - 47s 372us/step - loss: 2.0473\n",
      "Epoch 2/6\n",
      "125168/125168 [==============================] - 45s 360us/step - loss: 1.6851\n",
      "Epoch 3/6\n",
      "125168/125168 [==============================] - 47s 374us/step - loss: 1.5794\n",
      "Epoch 4/6\n",
      "125168/125168 [==============================] - 47s 375us/step - loss: 1.5175\n",
      "Epoch 5/6\n",
      "125168/125168 [==============================] - 46s 365us/step - loss: 1.4742\n",
      "Epoch 6/6\n",
      "125168/125168 [==============================] - 48s 387us/step - loss: 1.4447\n",
      "Model saved.\n",
      "Epoch 1/6\n",
      "125168/125168 [==============================] - 51s 411us/step - loss: 1.4187\n",
      "Epoch 2/6\n",
      "125168/125168 [==============================] - 48s 385us/step - loss: 1.3984\n",
      "Epoch 3/6\n",
      "125168/125168 [==============================] - 46s 370us/step - loss: 1.3800\n",
      "Epoch 4/6\n",
      "125168/125168 [==============================] - 46s 371us/step - loss: 1.3663\n",
      "Epoch 5/6\n",
      "125168/125168 [==============================] - 46s 365us/step - loss: 1.3549\n",
      "Epoch 6/6\n",
      "125168/125168 [==============================] - 48s 384us/step - loss: 1.3441\n",
      "Model saved.\n",
      "Epoch 1/6\n",
      "125168/125168 [==============================] - 47s 378us/step - loss: 1.3335\n",
      "Epoch 2/6\n",
      "125168/125168 [==============================] - 47s 372us/step - loss: 1.3242\n",
      "Epoch 3/6\n",
      "125168/125168 [==============================] - 47s 379us/step - loss: 1.3158\n",
      "Epoch 4/6\n",
      "125168/125168 [==============================] - 46s 370us/step - loss: 1.30850s - \n",
      "Epoch 5/6\n",
      "125168/125168 [==============================] - 47s 372us/step - loss: 1.3024\n",
      "Epoch 6/6\n",
      "125168/125168 [==============================] - 47s 378us/step - loss: 1.2932\n",
      "Model saved.\n",
      "Epoch 1/6\n",
      "125168/125168 [==============================] - 46s 367us/step - loss: 1.2875\n",
      "Epoch 2/6\n",
      "125168/125168 [==============================] - 47s 378us/step - loss: 1.2817\n",
      "Epoch 3/6\n",
      "125168/125168 [==============================] - 48s 381us/step - loss: 1.2766\n",
      "Epoch 4/6\n",
      "125168/125168 [==============================] - 48s 385us/step - loss: 1.2712\n",
      "Epoch 5/6\n",
      "125168/125168 [==============================] - 48s 382us/step - loss: 1.2662\n",
      "Epoch 6/6\n",
      "125168/125168 [==============================] - 50s 396us/step - loss: 1.26180s - loss\n",
      "Model saved.\n",
      "Epoch 1/6\n",
      "125168/125168 [==============================] - 50s 402us/step - loss: 1.2567\n",
      "Epoch 2/6\n",
      "125168/125168 [==============================] - 46s 370us/step - loss: 1.2516\n",
      "Epoch 3/6\n",
      "125168/125168 [==============================] - 49s 391us/step - loss: 1.2475\n",
      "Epoch 4/6\n",
      "125168/125168 [==============================] - 48s 386us/step - loss: 1.2449\n",
      "Epoch 5/6\n",
      "125168/125168 [==============================] - 49s 391us/step - loss: 1.2407\n",
      "Epoch 6/6\n",
      "125168/125168 [==============================] - 47s 378us/step - loss: 1.2373\n",
      "Model saved.\n"
     ]
    }
   ],
   "source": [
    "model_structure = model.to_json()\n",
    "with open(\"shakespeare_lstm_model.json\", \"w\") as json_file:\n",
    "    json_file.write(model_structure)\n",
    "\n",
    "for i in range(5):\n",
    "    model.fit(X, y,\n",
    "              batch_size=batch_size,\n",
    "              epochs=epochs)\n",
    "\n",
    "    model.save_weights(\"shakes_lstm_weights_{}.h5\".format(i + 1))\n",
    "    print('Model saved.')"
   ]
  },
  {
   "cell_type": "code",
   "execution_count": null,
   "metadata": {},
   "outputs": [],
   "source": []
  }
 ],
 "metadata": {
  "kernelspec": {
   "display_name": "Python 3",
   "language": "python",
   "name": "python3"
  },
  "language_info": {
   "codemirror_mode": {
    "name": "ipython",
    "version": 3
   },
   "file_extension": ".py",
   "mimetype": "text/x-python",
   "name": "python",
   "nbconvert_exporter": "python",
   "pygments_lexer": "ipython3",
   "version": "3.6.10"
  }
 },
 "nbformat": 4,
 "nbformat_minor": 4
}
